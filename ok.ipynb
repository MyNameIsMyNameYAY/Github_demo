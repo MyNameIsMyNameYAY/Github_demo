{
 "cells": [
  {
   "cell_type": "code",
   "execution_count": 8,
   "id": "d1f0247b",
   "metadata": {},
   "outputs": [
    {
     "name": "stdout",
     "output_type": "stream",
     "text": [
      "Enter the price for your dinner: 100\n",
      "Enter the tip percentage you want to give: (Without the % sign)15\n",
      "You pay a total of $115.0!\n"
     ]
    }
   ],
   "source": [
    "dinner=input('Enter the price for your dinner: ')\n",
    "tip=input('Enter the tip percentage you want to give: (Without the % sign)')\n",
    "dinner1=int(dinner)\n",
    "tip1=int(tip)\n",
    "step1=dinner1/100\n",
    "step2=step1*tip1\n",
    "step3=step2+dinner1\n",
    "yay=str(step3)\n",
    "print('You pay a total of $' +yay+ '!')"
   ]
  },
  {
   "cell_type": "code",
   "execution_count": null,
   "id": "623dbf6f",
   "metadata": {},
   "outputs": [],
   "source": []
  }
 ],
 "metadata": {
  "kernelspec": {
   "display_name": "Python 3",
   "language": "python",
   "name": "python3"
  },
  "language_info": {
   "codemirror_mode": {
    "name": "ipython",
    "version": 3
   },
   "file_extension": ".py",
   "mimetype": "text/x-python",
   "name": "python",
   "nbconvert_exporter": "python",
   "pygments_lexer": "ipython3",
   "version": "3.8.8"
  }
 },
 "nbformat": 4,
 "nbformat_minor": 5
}
